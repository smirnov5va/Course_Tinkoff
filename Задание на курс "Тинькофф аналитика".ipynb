{
 "cells": [
  {
   "cell_type": "markdown",
   "id": "b442bb97",
   "metadata": {},
   "source": [
    "Предполагается, что в рамках данного задания ученики сами будут изучать документацию, как минимум используя функционал `tab` и `shift+tab` от Jupyter"
   ]
  },
  {
   "cell_type": "markdown",
   "id": "aefaa077",
   "metadata": {},
   "source": [
    "1. Импортируйте библиотеку pandas \n",
    "2. Считайте файл `wage.csv` в DataFrame с названием `wage`. Используйте для этого функцию pd.read_csv()\n",
    "\n",
    "`person_id` - идентификатор человека\n",
    "\n",
    "`gender` - пол, 0 - женский, 1 - мужской\n",
    "\n",
    "`wage` - заработная плата в рублях"
   ]
  },
  {
   "cell_type": "code",
   "execution_count": 76,
   "id": "1a40f627",
   "metadata": {
    "ExecuteTime": {
     "end_time": "2023-01-11T11:10:13.848663Z",
     "start_time": "2023-01-11T11:10:13.827521Z"
    }
   },
   "outputs": [
    {
     "data": {
      "text/html": [
       "<div>\n",
       "<style scoped>\n",
       "    .dataframe tbody tr th:only-of-type {\n",
       "        vertical-align: middle;\n",
       "    }\n",
       "\n",
       "    .dataframe tbody tr th {\n",
       "        vertical-align: top;\n",
       "    }\n",
       "\n",
       "    .dataframe thead th {\n",
       "        text-align: right;\n",
       "    }\n",
       "</style>\n",
       "<table border=\"1\" class=\"dataframe\">\n",
       "  <thead>\n",
       "    <tr style=\"text-align: right;\">\n",
       "      <th></th>\n",
       "      <th>person_id</th>\n",
       "      <th>gender</th>\n",
       "      <th>wage</th>\n",
       "    </tr>\n",
       "  </thead>\n",
       "  <tbody>\n",
       "    <tr>\n",
       "      <th>0</th>\n",
       "      <td>0</td>\n",
       "      <td>1</td>\n",
       "      <td>46793.603811</td>\n",
       "    </tr>\n",
       "    <tr>\n",
       "      <th>1</th>\n",
       "      <td>1</td>\n",
       "      <td>1</td>\n",
       "      <td>33481.575720</td>\n",
       "    </tr>\n",
       "    <tr>\n",
       "      <th>2</th>\n",
       "      <td>2</td>\n",
       "      <td>1</td>\n",
       "      <td>44523.699084</td>\n",
       "    </tr>\n",
       "    <tr>\n",
       "      <th>3</th>\n",
       "      <td>3</td>\n",
       "      <td>1</td>\n",
       "      <td>15995.576829</td>\n",
       "    </tr>\n",
       "    <tr>\n",
       "      <th>4</th>\n",
       "      <td>4</td>\n",
       "      <td>0</td>\n",
       "      <td>10282.631224</td>\n",
       "    </tr>\n",
       "    <tr>\n",
       "      <th>...</th>\n",
       "      <td>...</td>\n",
       "      <td>...</td>\n",
       "      <td>...</td>\n",
       "    </tr>\n",
       "    <tr>\n",
       "      <th>1001</th>\n",
       "      <td>995</td>\n",
       "      <td>1</td>\n",
       "      <td>66503.737185</td>\n",
       "    </tr>\n",
       "    <tr>\n",
       "      <th>1002</th>\n",
       "      <td>996</td>\n",
       "      <td>1</td>\n",
       "      <td>9972.956272</td>\n",
       "    </tr>\n",
       "    <tr>\n",
       "      <th>1003</th>\n",
       "      <td>997</td>\n",
       "      <td>0</td>\n",
       "      <td>104504.616392</td>\n",
       "    </tr>\n",
       "    <tr>\n",
       "      <th>1004</th>\n",
       "      <td>998</td>\n",
       "      <td>1</td>\n",
       "      <td>98927.903076</td>\n",
       "    </tr>\n",
       "    <tr>\n",
       "      <th>1005</th>\n",
       "      <td>999</td>\n",
       "      <td>1</td>\n",
       "      <td>108107.141368</td>\n",
       "    </tr>\n",
       "  </tbody>\n",
       "</table>\n",
       "<p>1006 rows × 3 columns</p>\n",
       "</div>"
      ],
      "text/plain": [
       "      person_id  gender           wage\n",
       "0             0       1   46793.603811\n",
       "1             1       1   33481.575720\n",
       "2             2       1   44523.699084\n",
       "3             3       1   15995.576829\n",
       "4             4       0   10282.631224\n",
       "...         ...     ...            ...\n",
       "1001        995       1   66503.737185\n",
       "1002        996       1    9972.956272\n",
       "1003        997       0  104504.616392\n",
       "1004        998       1   98927.903076\n",
       "1005        999       1  108107.141368\n",
       "\n",
       "[1006 rows x 3 columns]"
      ]
     },
     "execution_count": 76,
     "metadata": {},
     "output_type": "execute_result"
    }
   ],
   "source": [
    "import pandas as pd \n",
    "\n",
    "df = pd.read_csv('/Users/thebest/Desktop/python/курс Тинькофф/wage-1-ee13a6b1-605e-44fe-83a6-85d3d7a0b3ae.csv')\n",
    "df"
   ]
  },
  {
   "cell_type": "markdown",
   "id": "dd71206a",
   "metadata": {},
   "source": [
    "3. Поменяйте колонку `gender` так, чтобы были записи `F` (female) и `M` (male) вместо 0 и 1"
   ]
  },
  {
   "cell_type": "code",
   "execution_count": 136,
   "id": "15e6b535",
   "metadata": {
    "ExecuteTime": {
     "end_time": "2023-01-11T12:34:31.575063Z",
     "start_time": "2023-01-11T12:34:31.544438Z"
    }
   },
   "outputs": [
    {
     "data": {
      "text/html": [
       "<div>\n",
       "<style scoped>\n",
       "    .dataframe tbody tr th:only-of-type {\n",
       "        vertical-align: middle;\n",
       "    }\n",
       "\n",
       "    .dataframe tbody tr th {\n",
       "        vertical-align: top;\n",
       "    }\n",
       "\n",
       "    .dataframe thead th {\n",
       "        text-align: right;\n",
       "    }\n",
       "</style>\n",
       "<table border=\"1\" class=\"dataframe\">\n",
       "  <thead>\n",
       "    <tr style=\"text-align: right;\">\n",
       "      <th></th>\n",
       "      <th>person_id</th>\n",
       "      <th>gender</th>\n",
       "      <th>wage</th>\n",
       "    </tr>\n",
       "  </thead>\n",
       "  <tbody>\n",
       "    <tr>\n",
       "      <th>0</th>\n",
       "      <td>0</td>\n",
       "      <td>M</td>\n",
       "      <td>46793.603811</td>\n",
       "    </tr>\n",
       "    <tr>\n",
       "      <th>1</th>\n",
       "      <td>1</td>\n",
       "      <td>M</td>\n",
       "      <td>33481.575720</td>\n",
       "    </tr>\n",
       "    <tr>\n",
       "      <th>2</th>\n",
       "      <td>2</td>\n",
       "      <td>M</td>\n",
       "      <td>44523.699084</td>\n",
       "    </tr>\n",
       "    <tr>\n",
       "      <th>3</th>\n",
       "      <td>3</td>\n",
       "      <td>M</td>\n",
       "      <td>15995.576829</td>\n",
       "    </tr>\n",
       "    <tr>\n",
       "      <th>4</th>\n",
       "      <td>4</td>\n",
       "      <td>F</td>\n",
       "      <td>10282.631224</td>\n",
       "    </tr>\n",
       "    <tr>\n",
       "      <th>...</th>\n",
       "      <td>...</td>\n",
       "      <td>...</td>\n",
       "      <td>...</td>\n",
       "    </tr>\n",
       "    <tr>\n",
       "      <th>1001</th>\n",
       "      <td>995</td>\n",
       "      <td>M</td>\n",
       "      <td>66503.737185</td>\n",
       "    </tr>\n",
       "    <tr>\n",
       "      <th>1002</th>\n",
       "      <td>996</td>\n",
       "      <td>M</td>\n",
       "      <td>9972.956272</td>\n",
       "    </tr>\n",
       "    <tr>\n",
       "      <th>1003</th>\n",
       "      <td>997</td>\n",
       "      <td>F</td>\n",
       "      <td>104504.616392</td>\n",
       "    </tr>\n",
       "    <tr>\n",
       "      <th>1004</th>\n",
       "      <td>998</td>\n",
       "      <td>M</td>\n",
       "      <td>98927.903076</td>\n",
       "    </tr>\n",
       "    <tr>\n",
       "      <th>1005</th>\n",
       "      <td>999</td>\n",
       "      <td>M</td>\n",
       "      <td>108107.141368</td>\n",
       "    </tr>\n",
       "  </tbody>\n",
       "</table>\n",
       "<p>1006 rows × 3 columns</p>\n",
       "</div>"
      ],
      "text/plain": [
       "      person_id gender           wage\n",
       "0             0      M   46793.603811\n",
       "1             1      M   33481.575720\n",
       "2             2      M   44523.699084\n",
       "3             3      M   15995.576829\n",
       "4             4      F   10282.631224\n",
       "...         ...    ...            ...\n",
       "1001        995      M   66503.737185\n",
       "1002        996      M    9972.956272\n",
       "1003        997      F  104504.616392\n",
       "1004        998      M   98927.903076\n",
       "1005        999      M  108107.141368\n",
       "\n",
       "[1006 rows x 3 columns]"
      ]
     },
     "execution_count": 136,
     "metadata": {},
     "output_type": "execute_result"
    }
   ],
   "source": [
    "df.loc[df.gender == 0, 'gender'] = 'F'\n",
    "df.loc[df.gender == 1, 'gender'] = 'M'\n",
    "df"
   ]
  },
  {
   "cell_type": "markdown",
   "id": "489f326f",
   "metadata": {},
   "source": [
    "4. Давайте посчитаем среднюю зарплату у мужчин и женщин. Для этого используйте метод `groupby` со следующим синтаксисом:\n",
    "\n",
    "`dataframe.groupby(Название_колонки_для_группировки)[Перечисление_колонок_для_агрегации].функция_агрегации()`"
   ]
  },
  {
   "cell_type": "code",
   "execution_count": 137,
   "id": "6bcb6b66",
   "metadata": {
    "ExecuteTime": {
     "end_time": "2023-01-11T12:34:36.585676Z",
     "start_time": "2023-01-11T12:34:36.567852Z"
    }
   },
   "outputs": [
    {
     "data": {
      "text/plain": [
       "gender\n",
       "F    40855.747261\n",
       "M    46815.944005\n",
       "Name: wage, dtype: float64"
      ]
     },
     "execution_count": 137,
     "metadata": {},
     "output_type": "execute_result"
    }
   ],
   "source": [
    "df.groupby('gender').mean()['wage']"
   ]
  },
  {
   "cell_type": "markdown",
   "id": "3a3af005",
   "metadata": {},
   "source": [
    "5. Теперь взглянем внимательнее на данные и обнаружим, что некоторые люди попали в выборку несколько раз. \n",
    "    1. Найдите таких людей. Подсказка: `value_counts()`\n",
    "    0. Убедитесь, что записи по ним с одинаковым `wage`. Возможно, тут вам пригодится функция агрегации `nunique()`, отображающая количество разных значений\n",
    "    0. Избавьтесь от повторяющихся значений. Подсказка: `drop_duplicates()`"
   ]
  },
  {
   "cell_type": "code",
   "execution_count": 138,
   "id": "d6923c29",
   "metadata": {
    "ExecuteTime": {
     "end_time": "2023-01-11T12:34:39.281640Z",
     "start_time": "2023-01-11T12:34:39.258839Z"
    }
   },
   "outputs": [
    {
     "data": {
      "text/html": [
       "<div>\n",
       "<style scoped>\n",
       "    .dataframe tbody tr th:only-of-type {\n",
       "        vertical-align: middle;\n",
       "    }\n",
       "\n",
       "    .dataframe tbody tr th {\n",
       "        vertical-align: top;\n",
       "    }\n",
       "\n",
       "    .dataframe thead th {\n",
       "        text-align: right;\n",
       "    }\n",
       "</style>\n",
       "<table border=\"1\" class=\"dataframe\">\n",
       "  <thead>\n",
       "    <tr style=\"text-align: right;\">\n",
       "      <th></th>\n",
       "      <th>person_id</th>\n",
       "      <th>gender</th>\n",
       "      <th>wage</th>\n",
       "    </tr>\n",
       "  </thead>\n",
       "  <tbody>\n",
       "    <tr>\n",
       "      <th>0</th>\n",
       "      <td>0</td>\n",
       "      <td>M</td>\n",
       "      <td>46793.603811</td>\n",
       "    </tr>\n",
       "    <tr>\n",
       "      <th>1</th>\n",
       "      <td>1</td>\n",
       "      <td>M</td>\n",
       "      <td>33481.575720</td>\n",
       "    </tr>\n",
       "    <tr>\n",
       "      <th>2</th>\n",
       "      <td>2</td>\n",
       "      <td>M</td>\n",
       "      <td>44523.699084</td>\n",
       "    </tr>\n",
       "    <tr>\n",
       "      <th>3</th>\n",
       "      <td>3</td>\n",
       "      <td>M</td>\n",
       "      <td>15995.576829</td>\n",
       "    </tr>\n",
       "    <tr>\n",
       "      <th>4</th>\n",
       "      <td>4</td>\n",
       "      <td>F</td>\n",
       "      <td>10282.631224</td>\n",
       "    </tr>\n",
       "    <tr>\n",
       "      <th>...</th>\n",
       "      <td>...</td>\n",
       "      <td>...</td>\n",
       "      <td>...</td>\n",
       "    </tr>\n",
       "    <tr>\n",
       "      <th>1001</th>\n",
       "      <td>995</td>\n",
       "      <td>M</td>\n",
       "      <td>66503.737185</td>\n",
       "    </tr>\n",
       "    <tr>\n",
       "      <th>1002</th>\n",
       "      <td>996</td>\n",
       "      <td>M</td>\n",
       "      <td>9972.956272</td>\n",
       "    </tr>\n",
       "    <tr>\n",
       "      <th>1003</th>\n",
       "      <td>997</td>\n",
       "      <td>F</td>\n",
       "      <td>104504.616392</td>\n",
       "    </tr>\n",
       "    <tr>\n",
       "      <th>1004</th>\n",
       "      <td>998</td>\n",
       "      <td>M</td>\n",
       "      <td>98927.903076</td>\n",
       "    </tr>\n",
       "    <tr>\n",
       "      <th>1005</th>\n",
       "      <td>999</td>\n",
       "      <td>M</td>\n",
       "      <td>108107.141368</td>\n",
       "    </tr>\n",
       "  </tbody>\n",
       "</table>\n",
       "<p>1006 rows × 3 columns</p>\n",
       "</div>"
      ],
      "text/plain": [
       "      person_id gender           wage\n",
       "0             0      M   46793.603811\n",
       "1             1      M   33481.575720\n",
       "2             2      M   44523.699084\n",
       "3             3      M   15995.576829\n",
       "4             4      F   10282.631224\n",
       "...         ...    ...            ...\n",
       "1001        995      M   66503.737185\n",
       "1002        996      M    9972.956272\n",
       "1003        997      F  104504.616392\n",
       "1004        998      M   98927.903076\n",
       "1005        999      M  108107.141368\n",
       "\n",
       "[1006 rows x 3 columns]"
      ]
     },
     "execution_count": 138,
     "metadata": {},
     "output_type": "execute_result"
    }
   ],
   "source": [
    "counts = df['wage'].value_counts()\n",
    "df.drop_duplicates(subset=['person_id', 'wage'])\n",
    "df.nunique()\n",
    "df"
   ]
  },
  {
   "cell_type": "markdown",
   "id": "74968699",
   "metadata": {},
   "source": [
    "6. Теперь посмотрим внимательнее на зарплаты\n",
    "    1. Охарактеризуйте имеющиеся данные по зарплатам. Подсказка: `describe`\n",
    "    1. Избавьтесь от бессмысленных значений"
   ]
  },
  {
   "cell_type": "code",
   "execution_count": 139,
   "id": "0525f9b4",
   "metadata": {
    "ExecuteTime": {
     "end_time": "2023-01-11T12:34:45.544050Z",
     "start_time": "2023-01-11T12:34:45.511467Z"
    }
   },
   "outputs": [
    {
     "data": {
      "text/html": [
       "<div>\n",
       "<style scoped>\n",
       "    .dataframe tbody tr th:only-of-type {\n",
       "        vertical-align: middle;\n",
       "    }\n",
       "\n",
       "    .dataframe tbody tr th {\n",
       "        vertical-align: top;\n",
       "    }\n",
       "\n",
       "    .dataframe thead th {\n",
       "        text-align: right;\n",
       "    }\n",
       "</style>\n",
       "<table border=\"1\" class=\"dataframe\">\n",
       "  <thead>\n",
       "    <tr style=\"text-align: right;\">\n",
       "      <th></th>\n",
       "      <th>count</th>\n",
       "      <th>mean</th>\n",
       "      <th>std</th>\n",
       "      <th>min</th>\n",
       "      <th>25%</th>\n",
       "      <th>50%</th>\n",
       "      <th>75%</th>\n",
       "      <th>max</th>\n",
       "    </tr>\n",
       "    <tr>\n",
       "      <th>gender</th>\n",
       "      <th></th>\n",
       "      <th></th>\n",
       "      <th></th>\n",
       "      <th></th>\n",
       "      <th></th>\n",
       "      <th></th>\n",
       "      <th></th>\n",
       "      <th></th>\n",
       "    </tr>\n",
       "  </thead>\n",
       "  <tbody>\n",
       "    <tr>\n",
       "      <th>F</th>\n",
       "      <td>498.0</td>\n",
       "      <td>40855.747261</td>\n",
       "      <td>48073.059382</td>\n",
       "      <td>-34658.114940</td>\n",
       "      <td>14689.986704</td>\n",
       "      <td>26606.365628</td>\n",
       "      <td>46823.314807</td>\n",
       "      <td>436170.404059</td>\n",
       "    </tr>\n",
       "    <tr>\n",
       "      <th>M</th>\n",
       "      <td>508.0</td>\n",
       "      <td>46815.944005</td>\n",
       "      <td>62154.821787</td>\n",
       "      <td>-287418.645743</td>\n",
       "      <td>14419.449954</td>\n",
       "      <td>28794.605952</td>\n",
       "      <td>56220.521659</td>\n",
       "      <td>755320.874132</td>\n",
       "    </tr>\n",
       "  </tbody>\n",
       "</table>\n",
       "</div>"
      ],
      "text/plain": [
       "        count          mean           std            min           25%  \\\n",
       "gender                                                                   \n",
       "F       498.0  40855.747261  48073.059382  -34658.114940  14689.986704   \n",
       "M       508.0  46815.944005  62154.821787 -287418.645743  14419.449954   \n",
       "\n",
       "                 50%           75%            max  \n",
       "gender                                             \n",
       "F       26606.365628  46823.314807  436170.404059  \n",
       "M       28794.605952  56220.521659  755320.874132  "
      ]
     },
     "execution_count": 139,
     "metadata": {},
     "output_type": "execute_result"
    }
   ],
   "source": [
    "df.groupby('gender')['wage'].describe()\n",
    "# Средня зарплата у мужчин на 6 т.р больше, чем у женщин"
   ]
  },
  {
   "cell_type": "markdown",
   "id": "92160417",
   "metadata": {},
   "source": [
    "7. Давайте теперь посмотрим на зарплату с учетом бонуса. Для этого нам понадобится таблица `bonus.csv`. Считайте ее в переменную `bonus`. Заметьте, что она сохранена немного в другом формате, и вам понадобится уточнить параметр `sep` - разделитель записей. Сравните текущий файл с предыдущим и попробуйте решить проблему"
   ]
  },
  {
   "cell_type": "code",
   "execution_count": 140,
   "id": "27c5e7b7",
   "metadata": {
    "ExecuteTime": {
     "end_time": "2023-01-11T12:34:50.011289Z",
     "start_time": "2023-01-11T12:34:49.987827Z"
    }
   },
   "outputs": [
    {
     "data": {
      "text/html": [
       "<div>\n",
       "<style scoped>\n",
       "    .dataframe tbody tr th:only-of-type {\n",
       "        vertical-align: middle;\n",
       "    }\n",
       "\n",
       "    .dataframe tbody tr th {\n",
       "        vertical-align: top;\n",
       "    }\n",
       "\n",
       "    .dataframe thead th {\n",
       "        text-align: right;\n",
       "    }\n",
       "</style>\n",
       "<table border=\"1\" class=\"dataframe\">\n",
       "  <thead>\n",
       "    <tr style=\"text-align: right;\">\n",
       "      <th></th>\n",
       "      <th>person_id</th>\n",
       "      <th>bonus</th>\n",
       "    </tr>\n",
       "  </thead>\n",
       "  <tbody>\n",
       "    <tr>\n",
       "      <th>0</th>\n",
       "      <td>905</td>\n",
       "      <td>85059.638382</td>\n",
       "    </tr>\n",
       "    <tr>\n",
       "      <th>1</th>\n",
       "      <td>836</td>\n",
       "      <td>7703.346074</td>\n",
       "    </tr>\n",
       "    <tr>\n",
       "      <th>2</th>\n",
       "      <td>287</td>\n",
       "      <td>3120.269742</td>\n",
       "    </tr>\n",
       "    <tr>\n",
       "      <th>3</th>\n",
       "      <td>548</td>\n",
       "      <td>5347.987142</td>\n",
       "    </tr>\n",
       "    <tr>\n",
       "      <th>4</th>\n",
       "      <td>575</td>\n",
       "      <td>137257.490614</td>\n",
       "    </tr>\n",
       "    <tr>\n",
       "      <th>...</th>\n",
       "      <td>...</td>\n",
       "      <td>...</td>\n",
       "    </tr>\n",
       "    <tr>\n",
       "      <th>445</th>\n",
       "      <td>488</td>\n",
       "      <td>28102.252903</td>\n",
       "    </tr>\n",
       "    <tr>\n",
       "      <th>446</th>\n",
       "      <td>913</td>\n",
       "      <td>55549.347647</td>\n",
       "    </tr>\n",
       "    <tr>\n",
       "      <th>447</th>\n",
       "      <td>616</td>\n",
       "      <td>620397.407705</td>\n",
       "    </tr>\n",
       "    <tr>\n",
       "      <th>448</th>\n",
       "      <td>110</td>\n",
       "      <td>14086.067488</td>\n",
       "    </tr>\n",
       "    <tr>\n",
       "      <th>449</th>\n",
       "      <td>848</td>\n",
       "      <td>13441.072859</td>\n",
       "    </tr>\n",
       "  </tbody>\n",
       "</table>\n",
       "<p>450 rows × 2 columns</p>\n",
       "</div>"
      ],
      "text/plain": [
       "     person_id          bonus\n",
       "0          905   85059.638382\n",
       "1          836    7703.346074\n",
       "2          287    3120.269742\n",
       "3          548    5347.987142\n",
       "4          575  137257.490614\n",
       "..         ...            ...\n",
       "445        488   28102.252903\n",
       "446        913   55549.347647\n",
       "447        616  620397.407705\n",
       "448        110   14086.067488\n",
       "449        848   13441.072859\n",
       "\n",
       "[450 rows x 2 columns]"
      ]
     },
     "execution_count": 140,
     "metadata": {},
     "output_type": "execute_result"
    }
   ],
   "source": [
    "bonus = pd.read_csv('/Users/thebest/Desktop/python/курс Тинькофф/bonus-1-c177edc7-6e8e-4e53-8f5d-098bd95cc4de.csv', sep=';')\n",
    "bonus"
   ]
  },
  {
   "cell_type": "markdown",
   "id": "01628721",
   "metadata": {},
   "source": [
    "8. Чтобы посчитать итоговую зарплату, нам нужно по каждому человеку знать и оклад, и премию. Для этого надо будет соединить (сджойнить) таблицы по `person_id`. Используйте для этого функцию `pd.merge`. Помните, что параметр `how` должен быть `'outer'`, чтобы сохранить те записи, что есть только в одной таблице. Результат запишите в новый dataframe `df`"
   ]
  },
  {
   "cell_type": "code",
   "execution_count": 141,
   "id": "d2cde0d5",
   "metadata": {
    "ExecuteTime": {
     "end_time": "2023-01-11T12:34:52.630561Z",
     "start_time": "2023-01-11T12:34:52.604223Z"
    }
   },
   "outputs": [
    {
     "data": {
      "text/html": [
       "<div>\n",
       "<style scoped>\n",
       "    .dataframe tbody tr th:only-of-type {\n",
       "        vertical-align: middle;\n",
       "    }\n",
       "\n",
       "    .dataframe tbody tr th {\n",
       "        vertical-align: top;\n",
       "    }\n",
       "\n",
       "    .dataframe thead th {\n",
       "        text-align: right;\n",
       "    }\n",
       "</style>\n",
       "<table border=\"1\" class=\"dataframe\">\n",
       "  <thead>\n",
       "    <tr style=\"text-align: right;\">\n",
       "      <th></th>\n",
       "      <th>person_id</th>\n",
       "      <th>gender</th>\n",
       "      <th>wage</th>\n",
       "      <th>bonus</th>\n",
       "    </tr>\n",
       "  </thead>\n",
       "  <tbody>\n",
       "    <tr>\n",
       "      <th>0</th>\n",
       "      <td>0</td>\n",
       "      <td>M</td>\n",
       "      <td>46793.603811</td>\n",
       "      <td>3.332934e+04</td>\n",
       "    </tr>\n",
       "    <tr>\n",
       "      <th>1</th>\n",
       "      <td>1</td>\n",
       "      <td>M</td>\n",
       "      <td>33481.575720</td>\n",
       "      <td>NaN</td>\n",
       "    </tr>\n",
       "    <tr>\n",
       "      <th>2</th>\n",
       "      <td>2</td>\n",
       "      <td>M</td>\n",
       "      <td>44523.699084</td>\n",
       "      <td>3.192912e+06</td>\n",
       "    </tr>\n",
       "    <tr>\n",
       "      <th>3</th>\n",
       "      <td>3</td>\n",
       "      <td>M</td>\n",
       "      <td>15995.576829</td>\n",
       "      <td>2.196858e+04</td>\n",
       "    </tr>\n",
       "    <tr>\n",
       "      <th>4</th>\n",
       "      <td>4</td>\n",
       "      <td>F</td>\n",
       "      <td>10282.631224</td>\n",
       "      <td>NaN</td>\n",
       "    </tr>\n",
       "    <tr>\n",
       "      <th>...</th>\n",
       "      <td>...</td>\n",
       "      <td>...</td>\n",
       "      <td>...</td>\n",
       "      <td>...</td>\n",
       "    </tr>\n",
       "    <tr>\n",
       "      <th>1005</th>\n",
       "      <td>995</td>\n",
       "      <td>M</td>\n",
       "      <td>66503.737185</td>\n",
       "      <td>3.452137e+03</td>\n",
       "    </tr>\n",
       "    <tr>\n",
       "      <th>1006</th>\n",
       "      <td>996</td>\n",
       "      <td>M</td>\n",
       "      <td>9972.956272</td>\n",
       "      <td>3.892790e+05</td>\n",
       "    </tr>\n",
       "    <tr>\n",
       "      <th>1007</th>\n",
       "      <td>997</td>\n",
       "      <td>F</td>\n",
       "      <td>104504.616392</td>\n",
       "      <td>5.380978e+04</td>\n",
       "    </tr>\n",
       "    <tr>\n",
       "      <th>1008</th>\n",
       "      <td>998</td>\n",
       "      <td>M</td>\n",
       "      <td>98927.903076</td>\n",
       "      <td>NaN</td>\n",
       "    </tr>\n",
       "    <tr>\n",
       "      <th>1009</th>\n",
       "      <td>999</td>\n",
       "      <td>M</td>\n",
       "      <td>108107.141368</td>\n",
       "      <td>NaN</td>\n",
       "    </tr>\n",
       "  </tbody>\n",
       "</table>\n",
       "<p>1010 rows × 4 columns</p>\n",
       "</div>"
      ],
      "text/plain": [
       "      person_id gender           wage         bonus\n",
       "0             0      M   46793.603811  3.332934e+04\n",
       "1             1      M   33481.575720           NaN\n",
       "2             2      M   44523.699084  3.192912e+06\n",
       "3             3      M   15995.576829  2.196858e+04\n",
       "4             4      F   10282.631224           NaN\n",
       "...         ...    ...            ...           ...\n",
       "1005        995      M   66503.737185  3.452137e+03\n",
       "1006        996      M    9972.956272  3.892790e+05\n",
       "1007        997      F  104504.616392  5.380978e+04\n",
       "1008        998      M   98927.903076           NaN\n",
       "1009        999      M  108107.141368           NaN\n",
       "\n",
       "[1010 rows x 4 columns]"
      ]
     },
     "execution_count": 141,
     "metadata": {},
     "output_type": "execute_result"
    }
   ],
   "source": [
    "dfdf = df.merge(bonus, left_on= 'person_id', right_on= 'person_id', how= 'outer')\n",
    "dfdf"
   ]
  },
  {
   "cell_type": "markdown",
   "id": "e61a0c80",
   "metadata": {},
   "source": [
    "9. Наконец, давайте посчитаем итоговую зарплату\n",
    "    1. Замените отсутствующие записи в колонке `bonus` нулями\n",
    "    1. Уберите людей без `wage` - это те \"плохие\" записи, от которых мы избавлялись на предыдущих шагах\n",
    "    1. Сделайте новую колонку `total`, которая будет равна 12 окладам и премии\n",
    "    1. Посчитайте среднюю и медианную итоговую зарплату в разрезе по полу. Подсказка: вместо функции агрегации можно написать `.agg()` и перечислить внутри нужные агрегаты"
   ]
  },
  {
   "cell_type": "code",
   "execution_count": 162,
   "id": "e54b96b9",
   "metadata": {
    "ExecuteTime": {
     "end_time": "2023-01-11T12:39:07.453878Z",
     "start_time": "2023-01-11T12:39:07.433401Z"
    }
   },
   "outputs": [
    {
     "name": "stdout",
     "output_type": "stream",
     "text": [
      "gender\n",
      "F    564598.301505\n",
      "M    651435.213754\n",
      "Name: total, dtype: float64 gender\n",
      "F    347311.814999\n",
      "M    435581.404242\n",
      "Name: total, dtype: float64\n"
     ]
    }
   ],
   "source": [
    "new_dfdf = dfdf.fillna(0)\n",
    "new_dfdf.drop_duplicates(subset=['person_id', 'wage'])\n",
    "new_dfdf.insert(4, 'total', new_dfdf.wage * 12 + new_dfdf.bonus)\n",
    "mean = new_dfdf.groupby('gender').mean()['total']\n",
    "median = new_dfdf.groupby('gender').median()['total']\n",
    "print(mean,median)\n"
   ]
  },
  {
   "cell_type": "markdown",
   "id": "dc986afd",
   "metadata": {},
   "source": [
    "10. Сохраните `df` в файл, используя метод `to_csv()`. Не записывайте индексы"
   ]
  },
  {
   "cell_type": "code",
   "execution_count": 165,
   "id": "66cb61ea",
   "metadata": {
    "ExecuteTime": {
     "end_time": "2023-01-11T12:41:06.054378Z",
     "start_time": "2023-01-11T12:41:06.008202Z"
    }
   },
   "outputs": [],
   "source": [
    "new_dfdf.to_csv('/Users/thebest/Desktop/python/курс Тинькофф/ Таблица_зп_F_M.csv')"
   ]
  },
  {
   "cell_type": "code",
   "execution_count": null,
   "id": "67c99888",
   "metadata": {},
   "outputs": [],
   "source": []
  }
 ],
 "metadata": {
  "kernelspec": {
   "display_name": "Python 3 (ipykernel)",
   "language": "python",
   "name": "python3"
  },
  "language_info": {
   "codemirror_mode": {
    "name": "ipython",
    "version": 3
   },
   "file_extension": ".py",
   "mimetype": "text/x-python",
   "name": "python",
   "nbconvert_exporter": "python",
   "pygments_lexer": "ipython3",
   "version": "3.9.12"
  },
  "toc": {
   "base_numbering": 1,
   "nav_menu": {},
   "number_sections": true,
   "sideBar": true,
   "skip_h1_title": false,
   "title_cell": "Table of Contents",
   "title_sidebar": "Contents",
   "toc_cell": false,
   "toc_position": {},
   "toc_section_display": true,
   "toc_window_display": false
  }
 },
 "nbformat": 4,
 "nbformat_minor": 5
}
